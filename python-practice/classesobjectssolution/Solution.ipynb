{
 "cells": [
  {
   "cell_type": "markdown",
   "id": "070925a8",
   "metadata": {},
   "source": [
    "### Question 1\n",
    "Create a class named `Car` with attributes `make`, `model`, and `year`. Create an object of the class and print its attributes."
   ]
  },
  {
   "cell_type": "code",
   "execution_count": null,
   "id": "32aef43f",
   "metadata": {},
   "outputs": [
    {
     "name": "stdout",
     "output_type": "stream",
     "text": [
      "BMW X5 2025\n"
     ]
    }
   ],
   "source": [
    "### Answers\n",
    "class Car:\n",
    "    def __init__(s,make,model,year):\n",
    "        s.make = make\n",
    "        s.model = model\n",
    "        s.year = year\n",
    "# set attribute\n",
    "my_car = Car(\"BMW\",\"X5\",\"2025\")\n",
    "\n",
    "# call attributes\n",
    "print(my_car.make, my_car.model, my_car.year)"
   ]
  },
  {
   "cell_type": "markdown",
   "id": "13006fad",
   "metadata": {},
   "source": [
    "### Question 2\n",
    "Add a method named `start_engine` to the `Car` class that prints a message when the engine starts. Create an object of the class and call the method."
   ]
  },
  {
   "cell_type": "code",
   "execution_count": null,
   "id": "385ef204",
   "metadata": {},
   "outputs": [
    {
     "name": "stdout",
     "output_type": "stream",
     "text": [
      "Your BMW has started\n"
     ]
    }
   ],
   "source": [
    "class Car:\n",
    "    def __init__(s,make,model,year):\n",
    "        s.make = make\n",
    "        s.model = model\n",
    "        s.year = year\n",
    "    def start_engine(s):\n",
    "        print(f\"Your {s.make} has started\")\n",
    "\n",
    "# set attribute\n",
    "my_car = Car(\"BMW\",\"X5\",\"2025\")\n",
    "\n",
    "# call methods\n",
    "my_car.start_engine()"
   ]
  },
  {
   "cell_type": "markdown",
   "id": "eacf18ce",
   "metadata": {},
   "source": [
    "### Question 3\n",
    "Create a class named `Student` with attributes `name` and `age`. Use a constructor to initialize these attributes. Create an object of the class and print its attributes."
   ]
  },
  {
   "cell_type": "code",
   "execution_count": null,
   "id": "5dfe6513",
   "metadata": {},
   "outputs": [
    {
     "name": "stdout",
     "output_type": "stream",
     "text": [
      "Ashok 12\n"
     ]
    }
   ],
   "source": [
    "class Student:\n",
    "    def __init__(s,name,age):\n",
    "        s.name = name\n",
    "        s.age = age\n",
    "\n",
    "# set attribute\n",
    "student = Student(\"Ashok\",\"12\")\n",
    "\n",
    "# call attributes\n",
    "print(student.name, student.age)"
   ]
  },
  {
   "cell_type": "markdown",
   "id": "82c96281",
   "metadata": {},
   "source": [
    "### Question 4\n",
    "Create a class named `BankAccount` with private attributes `account_number` and `balance`. Add methods to deposit and withdraw money, and to check the balance. Create an object of the class and perform some operations."
   ]
  },
  {
   "cell_type": "code",
   "execution_count": null,
   "id": "0c1c0579",
   "metadata": {},
   "outputs": [
    {
     "name": "stdout",
     "output_type": "stream",
     "text": [
      "the amount 100 is deposited\n",
      "balnce is 100\n",
      "the amount 50 is withdrawn\n",
      "balnce is 50\n"
     ]
    }
   ],
   "source": [
    "class BankAccount:\n",
    "    def __init__(s,account_number,balance=0):\n",
    "        s.account_number = account_number\n",
    "        s.balance = balance\n",
    "    def deposit(s,amount):\n",
    "        s.balance += amount\n",
    "        print(f\"the amount {amount} is deposited\")\n",
    "    def withdraw(s,amount):\n",
    "        s.balance -= amount\n",
    "        print(f\"the amount {amount} is withdrawn\")\n",
    "    def CheckBalance(s):\n",
    "        print(f\"balnce is {s.balance}\")\n",
    "\n",
    "# set attribute\n",
    "ashok_acc = BankAccount(12345,0)\n",
    "\n",
    "# call function\n",
    "ashok_acc.deposit(100)\n",
    "ashok_acc.CheckBalance()\n",
    "ashok_acc.withdraw(50)\n",
    "ashok_acc.CheckBalance()\n",
    "\n"
   ]
  },
  {
   "cell_type": "markdown",
   "id": "c36d82e4",
   "metadata": {},
   "source": [
    "### Question 5\n",
    "Create a base class named `Person` with attributes `name` and `age`. Create a derived class named `Employee` that inherits from `Person` and adds an attribute `employee_id`. Create an object of the derived class and print its attributes."
   ]
  },
  {
   "cell_type": "code",
   "execution_count": 18,
   "id": "4912b483",
   "metadata": {},
   "outputs": [
    {
     "name": "stdout",
     "output_type": "stream",
     "text": [
      "ashok 23 2334\n"
     ]
    }
   ],
   "source": [
    "class Person:\n",
    "    def __init__(s,name,age):\n",
    "        s.name = name\n",
    "        s.age = age\n",
    "class Employee(Person):\n",
    "    def __init__(s,employee_id,name,age):\n",
    "        Person.__init__(s,name,age)\n",
    "        s.employee_id = employee_id\n",
    "\n",
    "# set attributes\n",
    "employee = Employee(2334,\"ashok\", 23)\n",
    "\n",
    "# call attribute\n",
    "print(employee.name, employee.age, employee.employee_id)\n"
   ]
  },
  {
   "cell_type": "markdown",
   "id": "223ffa66",
   "metadata": {},
   "source": [
    "### Questioin 6\n",
    "In the `Employee` class, override the `__str__` method to return a string representation of the object. Create an object of the class and print it."
   ]
  },
  {
   "cell_type": "code",
   "execution_count": null,
   "id": "a8ea20b3",
   "metadata": {},
   "outputs": [
    {
     "name": "stdout",
     "output_type": "stream",
     "text": [
      "Name: ashok\n",
      "Age: 23\n",
      "ID: 2334 \n"
     ]
    }
   ],
   "source": [
    "class Person:\n",
    "    def __init__(s,name,age):\n",
    "        s.name = name\n",
    "        s.age = age\n",
    "class Employee(Person):\n",
    "    def __init__(s,employee_id,name,age):\n",
    "        Person.__init__(s,name,age)\n",
    "        s.employee_id = employee_id\n",
    "    def __str__(s):\n",
    "        return f\"Name: {employee.name}\\nAge: {employee.age}\\nID: {employee.employee_id}\"\n",
    "\n",
    "# set attributes\n",
    "employee = Employee(2334,\"ashok\", 23)\n",
    "\n",
    "# call attribute\n",
    "print(employee)"
   ]
  },
  {
   "cell_type": "markdown",
   "id": "c478ea53",
   "metadata": {},
   "source": [
    "### Question 7\n",
    "Create a class named `Address` with attributes `street`, `city`, and `zipcode`. Create a class named `Person` that has an `Address` object as an attribute. Create an object of the `Person` class and print its address."
   ]
  },
  {
   "cell_type": "code",
   "execution_count": 29,
   "id": "5a18cd9f",
   "metadata": {},
   "outputs": [
    {
     "name": "stdout",
     "output_type": "stream",
     "text": [
      "ashok \n",
      " Dalal Street \n",
      " Mumbai \n",
      " 400001\n"
     ]
    }
   ],
   "source": [
    "class Address:\n",
    "    def __init__(s,street,city,zipcode):\n",
    "        s.street = street\n",
    "        s.city = city\n",
    "        s.zipcode = zipcode\n",
    "class Person(Address):\n",
    "    def __init__(s,name,street,city,zipcode):\n",
    "        Address.__init__(s,street,city,zipcode)\n",
    "        s.name = name\n",
    "p1 = Person(\"ashok\",\"Dalal Street\", \"Mumbai\", 400001)\n",
    "print(p1.name,\"\\n\",p1.street,\"\\n\",p1.city,\"\\n\",p1.zipcode)"
   ]
  }
 ],
 "metadata": {
  "kernelspec": {
   "display_name": "mlops",
   "language": "python",
   "name": "python3"
  },
  "language_info": {
   "codemirror_mode": {
    "name": "ipython",
    "version": 3
   },
   "file_extension": ".py",
   "mimetype": "text/x-python",
   "name": "python",
   "nbconvert_exporter": "python",
   "pygments_lexer": "ipython3",
   "version": "3.12.3"
  }
 },
 "nbformat": 4,
 "nbformat_minor": 5
}
